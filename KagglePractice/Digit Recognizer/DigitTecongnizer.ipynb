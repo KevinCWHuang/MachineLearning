{
 "cells": [
  {
   "cell_type": "code",
   "execution_count": 1,
   "metadata": {},
   "outputs": [
    {
     "name": "stderr",
     "output_type": "stream",
     "text": [
      "Using TensorFlow backend.\n"
     ]
    }
   ],
   "source": [
    "import pandas as pd\n",
    "import numpy as np\n",
    "import os\n",
    "\n",
    "import matplotlib.pyplot as plt\n",
    "import matplotlib.image as mpimg\n",
    "%matplotlib inline\n",
    "import seaborn as sns\n",
    "sns.set(style='white', context='notebook', palette='deep')\n",
    "\n",
    "from sklearn.model_selection import train_test_split\n",
    "from sklearn.metrics import confusion_matrix\n",
    "import itertools\n",
    "\n",
    "from keras.utils.np_utils import to_categorical\n",
    "from keras.models import Sequential\n",
    "from keras.layers import Dense, Dropout, Flatten, Conv2D, MaxPool2D\n",
    "from keras.optimizers import RMSprop, Adam\n",
    "from keras.preprocessing.image import ImageDataGenerator\n",
    "from keras.callbacks import ReduceLROnPlateau, EarlyStopping, ModelCheckpoint\n",
    "\n",
    "np.random.seed(2)"
   ]
  },
  {
   "cell_type": "code",
   "execution_count": 2,
   "metadata": {},
   "outputs": [
    {
     "name": "stdout",
     "output_type": "stream",
     "text": [
      "(42000, 785)\n",
      "(28000, 784)\n"
     ]
    }
   ],
   "source": [
    "train = pd.read_csv('input/train.csv')\n",
    "test = pd.read_csv('input/test.csv')\n",
    "print(train.shape) #(42000, 785)\n",
    "print(test.shape) #(28000, 784)\n",
    "# train.head()"
   ]
  },
  {
   "cell_type": "code",
   "execution_count": 3,
   "metadata": {},
   "outputs": [
    {
     "name": "stdout",
     "output_type": "stream",
     "text": [
      "(42000, 784) (42000,)\n"
     ]
    },
    {
     "data": {
      "text/plain": [
       "1    4684\n",
       "7    4401\n",
       "3    4351\n",
       "9    4188\n",
       "2    4177\n",
       "6    4137\n",
       "0    4132\n",
       "4    4072\n",
       "8    4063\n",
       "5    3795\n",
       "Name: label, dtype: int64"
      ]
     },
     "execution_count": 3,
     "metadata": {},
     "output_type": "execute_result"
    },
    {
     "data": {
      "image/png": "[encoded data removed]",
      "text/plain": [
       "<Figure size 432x288 with 1 Axes>"
      ]
     },
     "metadata": {},
     "output_type": "display_data"
    }
   ],
   "source": [
    "X_train = train.drop('label', axis=1)\n",
    "Y_train = train['label']\n",
    "print(X_train.shape, Y_train.shape)\n",
    "g = sns.countplot(Y_train)\n",
    "Y_train.value_counts()"
   ]
  },
  {
   "cell_type": "code",
   "execution_count": 4,
   "metadata": {},
   "outputs": [
    {
     "name": "stdout",
     "output_type": "stream",
     "text": [
      "0\n",
      "0\n"
     ]
    }
   ],
   "source": [
    "print(X_train.isnull().any().sum())\n",
    "print(test.isnull().any().sum())"
   ]
  },
  {
   "cell_type": "code",
   "execution_count": 5,
   "metadata": {},
   "outputs": [],
   "source": [
    "#Confit\n",
    "num_classes = 10\n",
    "random_seed = 2\n",
    "epochs = 30 \n",
    "batch_size = 56\n",
    "save_dir = os.path.join(os.getcwd(), 'saved_models')\n",
    "model_name = 'kevin.h5py'\n",
    "\n",
    "#第一次執行忽略下列兩行\n",
    "# model_path = os.path.join(save_dir, model_name)\n",
    "# model = load_model(model_path)"
   ]
  },
  {
   "cell_type": "code",
   "execution_count": 6,
   "metadata": {},
   "outputs": [
    {
     "name": "stdout",
     "output_type": "stream",
     "text": [
      "(33600, 28, 28, 1) (8400, 28, 28, 1) (33600, 10)\n"
     ]
    }
   ],
   "source": [
    "#Normalize\n",
    "X_train = X_train/255\n",
    "test = test/255\n",
    "\n",
    "#Reshape\n",
    "X_train = X_train.values.reshape(-1,28,28,1)\n",
    "test = test.values.reshape(-1,28,28,1)\n",
    "\n",
    "#one hat encoding\n",
    "Y_train = to_categorical(Y_train, num_classes = num_classes)\n",
    "\n",
    "#split train,valication set\n",
    "X_train, X_val, Y_train, Y_val = train_test_split(X_train, Y_train, test_size=0.2, random_state=random_seed)\n",
    "\n",
    "print(X_train.shape, X_val.shape, Y_train.shape)"
   ]
  },
  {
   "cell_type": "code",
   "execution_count": 7,
   "metadata": {},
   "outputs": [
    {
     "data": {
      "image/png": "[encoded data removed]",
      "text/plain": [
       "<Figure size 432x288 with 1 Axes>"
      ]
     },
     "metadata": {},
     "output_type": "display_data"
    }
   ],
   "source": [
    "g = plt.imshow(X_train[18][:,:,0])"
   ]
  },
  {
   "cell_type": "code",
   "execution_count": 8,
   "metadata": {},
   "outputs": [],
   "source": [
    "#CNN Model\n",
    "# [conv2d *2 + maxpoll2d + dropout]*2 + Flatten + Dense + dropout + out\n",
    "model = Sequential()\n",
    "\n",
    "# model.add(Conv2D(filters = 16, kernel_size = (3,3),padding = 'Same', \n",
    "#                  activation ='relu', input_shape = (28,28,1)))\n",
    "# model.add(Conv2D(filters = 16, kernel_size=(3,3), padding='Same', \n",
    "#                  activation = 'relu', input_shape = (28,28,1)))\n",
    "# model.add(MaxPool2D(pool_size=(2,2),strides=(1,1)))\n",
    "# model.add(Dropout(0.25))\n",
    "\n",
    "model.add(Conv2D(filters = 32, kernel_size = (3,3),padding = 'Same', \n",
    "                 activation ='relu', input_shape = (28,28,1)))\n",
    "model.add(Conv2D(filters = 32, kernel_size=(3,3), padding='Same', \n",
    "                 activation = 'relu', input_shape = (28,28,1)))\n",
    "model.add(MaxPool2D(pool_size=(2,2),strides=(1,1)))\n",
    "model.add(Dropout(0.25))\n",
    "\n",
    "model.add(Conv2D(filters = 64, kernel_size = (3,3),padding = 'Same', \n",
    "                 activation ='relu', input_shape = (28,28,1)))\n",
    "model.add(Conv2D(filters = 64, kernel_size=(3,3), padding='Same', \n",
    "                 activation = 'relu', input_shape = (28,28,1)))\n",
    "model.add(MaxPool2D(pool_size=(2,2),strides=(1,1)))\n",
    "model.add(Dropout(0.5))\n",
    "\n",
    "model.add(Flatten())\n",
    "model.add(Dense(512, activation='relu'))\n",
    "model.add(Dropout(0.5))\n",
    "\n",
    "model.add(Dense(num_classes, activation='softmax'))\n",
    "\n",
    "print(model.summary())"
   ]
  },
  {
   "cell_type": "code",
   "execution_count": 9,
   "metadata": {},
   "outputs": [],
   "source": [
    "#Optimizer\n",
    "# optimizer = RMSprop(lr=0.001, rho=0.9, epsilon=1e-08, decay=0.0)\n",
    "optimizer = Adam(lr=0.003, beta_1=0.9, beta_2=0.999, epsilon=1e-08, decay=0.0)\n",
    "\n",
    "model.compile(optimizer=optimizer, loss='categorical_crossentropy', metrics=['accuracy'])\n",
    "\n",
    "learning_rate_reduction = ReduceLROnPlateau(monitor='val_acc',  #val_loss\n",
    "                                            factor=0.5, \n",
    "                                            patience=5, \n",
    "                                            verbose=1, \n",
    "                                            mode='auto', \n",
    "                                            epsilon=0.0001, \n",
    "                                            cooldown=0, \n",
    "                                            min_lr=0.0001)\n"
   ]
  },
  {
   "cell_type": "code",
   "execution_count": 10,
   "metadata": {},
   "outputs": [],
   "source": [
    "#Data augmentation\n",
    "# datagen = ImageDataGenerator(\n",
    "#         featurewise_center=False,  # set input mean to 0 over the dataset\n",
    "#         samplewise_center=False,  # set each sample mean to 0\n",
    "#         featurewise_std_normalization=False,  # divide inputs by std of the dataset\n",
    "#         samplewise_std_normalization=False,  # divide each input by its std\n",
    "#         zca_whitening=False,  # apply ZCA whitening\n",
    "#         rotation_range=20,  # randomly rotate images in the range (degrees, 0 to 180)\n",
    "#         zoom_range = 0.2, # Randomly zoom image \n",
    "#         width_shift_range=0.1,  # randomly shift images horizontally (fraction of total width)\n",
    "#         height_shift_range=0.1,  # randomly shift images vertically (fraction of total height)\n",
    "#         horizontal_flip=False,  # randomly flip images\n",
    "#         vertical_flip=False)  # randomly flip images\n",
    "datagen = ImageDataGenerator(\n",
    "    rotation_range=30,  # randomly rotate images in the range (degrees, 0 to 180)\n",
    "    width_shift_range=0.1,  # randomly shift images horizontally (fraction of total width)\n",
    "    height_shift_range=0.1,  # randomly shift images vertically (fraction of total height)\n",
    "    horizontal_flip=False,  # randomly flip images\n",
    "    vertical_flip=False)  # randomly flip images"
   ]
  },
  {
   "cell_type": "code",
   "execution_count": 11,
   "metadata": {},
   "outputs": [
    {
     "name": "stdout",
     "output_type": "stream",
     "text": [
      "Epoch 1/30\n",
      " - 417s - loss: 0.4798 - acc: 0.8474 - val_loss: 0.0806 - val_acc: 0.9760\n",
      "Epoch 2/30\n",
      " - 415s - loss: 0.1984 - acc: 0.9417 - val_loss: 0.0593 - val_acc: 0.9820\n",
      "Epoch 3/30\n",
      " - 415s - loss: 0.1566 - acc: 0.9553 - val_loss: 0.0536 - val_acc: 0.9838\n",
      "Epoch 4/30\n",
      " - 416s - loss: 0.1369 - acc: 0.9602 - val_loss: 0.0514 - val_acc: 0.9848\n",
      "Epoch 5/30\n",
      " - 436s - loss: 0.1196 - acc: 0.9641 - val_loss: 0.0448 - val_acc: 0.9864\n",
      "Epoch 6/30\n",
      " - 472s - loss: 0.1109 - acc: 0.9673 - val_loss: 0.0445 - val_acc: 0.9869\n",
      "Epoch 7/30\n",
      " - 435s - loss: 0.1112 - acc: 0.9665 - val_loss: 0.0451 - val_acc: 0.9880\n",
      "Epoch 8/30\n",
      " - 436s - loss: 0.1030 - acc: 0.9701 - val_loss: 0.0426 - val_acc: 0.9879\n",
      "Epoch 9/30\n",
      " - 437s - loss: 0.0974 - acc: 0.9710 - val_loss: 0.0423 - val_acc: 0.9875\n",
      "Epoch 10/30\n",
      " - 436s - loss: 0.0979 - acc: 0.9715 - val_loss: 0.0354 - val_acc: 0.9894\n",
      "Epoch 11/30\n",
      " - 436s - loss: 0.0877 - acc: 0.9740 - val_loss: 0.0317 - val_acc: 0.9905\n",
      "Epoch 12/30\n",
      " - 434s - loss: 0.0927 - acc: 0.9745 - val_loss: 0.0374 - val_acc: 0.9888\n",
      "Epoch 13/30\n",
      " - 436s - loss: 0.0874 - acc: 0.9746 - val_loss: 0.0319 - val_acc: 0.9904\n",
      "Epoch 14/30\n",
      " - 415s - loss: 0.0862 - acc: 0.9743 - val_loss: 0.0326 - val_acc: 0.9910\n",
      "Epoch 15/30\n",
      " - 417s - loss: 0.0814 - acc: 0.9764 - val_loss: 0.0303 - val_acc: 0.9912\n",
      "Epoch 16/30\n",
      " - 415s - loss: 0.0855 - acc: 0.9766 - val_loss: 0.0355 - val_acc: 0.9895\n",
      "Epoch 17/30\n",
      " - 415s - loss: 0.0777 - acc: 0.9767 - val_loss: 0.0328 - val_acc: 0.9918\n",
      "Epoch 18/30\n",
      " - 415s - loss: 0.0793 - acc: 0.9774 - val_loss: 0.0342 - val_acc: 0.9907\n",
      "Epoch 19/30\n",
      " - 413s - loss: 0.0801 - acc: 0.9777 - val_loss: 0.0383 - val_acc: 0.9900\n",
      "Epoch 20/30\n",
      " - 416s - loss: 0.0791 - acc: 0.9777 - val_loss: 0.0341 - val_acc: 0.9892\n",
      "Epoch 21/30\n",
      " - 422s - loss: 0.0784 - acc: 0.9772 - val_loss: 0.0369 - val_acc: 0.9900\n",
      "Epoch 22/30\n",
      " - 450s - loss: 0.0756 - acc: 0.9785 - val_loss: 0.0345 - val_acc: 0.9898\n",
      "Epoch 23/30\n",
      " - 443s - loss: 0.0771 - acc: 0.9775 - val_loss: 0.0312 - val_acc: 0.9918\n",
      "\n",
      "Epoch 00023: ReduceLROnPlateau reducing learning rate to 0.0005000000237487257.\n",
      "Epoch 24/30\n",
      " - 417s - loss: 0.0606 - acc: 0.9825 - val_loss: 0.0272 - val_acc: 0.9931\n",
      "Epoch 25/30\n",
      " - 417s - loss: 0.0563 - acc: 0.9839 - val_loss: 0.0264 - val_acc: 0.9915\n",
      "Epoch 26/30\n",
      " - 413s - loss: 0.0551 - acc: 0.9847 - val_loss: 0.0258 - val_acc: 0.9926\n",
      "Epoch 27/30\n",
      " - 413s - loss: 0.0530 - acc: 0.9849 - val_loss: 0.0325 - val_acc: 0.9911\n",
      "Epoch 28/30\n",
      " - 414s - loss: 0.0558 - acc: 0.9843 - val_loss: 0.0276 - val_acc: 0.9937\n",
      "Epoch 29/30\n",
      " - 417s - loss: 0.0494 - acc: 0.9859 - val_loss: 0.0301 - val_acc: 0.9932\n",
      "Epoch 30/30\n",
      " - 418s - loss: 0.0528 - acc: 0.9856 - val_loss: 0.0264 - val_acc: 0.9930\n",
      "Loading trained model\n"
     ]
    },
    {
     "ename": "NameError",
     "evalue": "name 'load_model' is not defined",
     "output_type": "error",
     "traceback": [
      "\u001b[1;31m---------------------------------------------------------------------------\u001b[0m",
      "\u001b[1;31mNameError\u001b[0m                                 Traceback (most recent call last)",
      "\u001b[1;32m<ipython-input-11-e69d356a4244>\u001b[0m in \u001b[0;36m<module>\u001b[1;34m()\u001b[0m\n\u001b[0;32m     17\u001b[0m \u001b[1;31m# loading our save model\u001b[0m\u001b[1;33m\u001b[0m\u001b[1;33m\u001b[0m\u001b[0m\n\u001b[0;32m     18\u001b[0m \u001b[0mprint\u001b[0m\u001b[1;33m(\u001b[0m\u001b[1;34m\"Loading trained model\"\u001b[0m\u001b[1;33m)\u001b[0m\u001b[1;33m\u001b[0m\u001b[0m\n\u001b[1;32m---> 19\u001b[1;33m \u001b[0mmodel\u001b[0m \u001b[1;33m=\u001b[0m \u001b[0mload_model\u001b[0m\u001b[1;33m(\u001b[0m\u001b[0mmodel_path\u001b[0m\u001b[1;33m)\u001b[0m\u001b[1;33m\u001b[0m\u001b[0m\n\u001b[0m\u001b[0;32m     20\u001b[0m \u001b[1;33m\u001b[0m\u001b[0m\n\u001b[0;32m     21\u001b[0m \u001b[1;31m# Score trained model.\u001b[0m\u001b[1;33m\u001b[0m\u001b[1;33m\u001b[0m\u001b[0m\n",
      "\u001b[1;31mNameError\u001b[0m: name 'load_model' is not defined"
     ]
    }
   ],
   "source": [
    "if not os.path.isdir(save_dir):\n",
    "    os.makedirs(save_dir)\n",
    "model_path = os.path.join(save_dir, model_name)\n",
    "checkpoint = ModelCheckpoint(model_path, monitor='val_loss', save_best_only=True, verbose=1)\n",
    "\n",
    "# earlystop\n",
    "earlystop = EarlyStopping(monitor='val_loss', patience=3, verbose=1)\n",
    "datagen.fit(X_train)\n",
    "\n",
    "#Fit the model\n",
    "history = model.fit_generator(datagen.flow(X_train,Y_train, batch_size=batch_size),\n",
    "                              epochs = epochs, validation_data = (X_val,Y_val),\n",
    "                              verbose = 2, steps_per_epoch=X_train.shape[0] // batch_size\n",
    "                              , callbacks=[learning_rate_reduction])\n",
    "\n",
    "\n",
    "# Plot the loss and accuracy curves for training and validation \n",
    "# fig, ax = plt.subplots(2,1)\n",
    "# ax[0].plot(history.history['loss'], color='b', label=\"Training loss\")\n",
    "# ax[0].plot(history.history['val_loss'], color='r', label=\"validation loss\",axes =ax[0])\n",
    "# legend = ax[0].legend(loc='best', shadow=True)\n",
    "\n",
    "# ax[1].plot(history.history['acc'], color='b', label=\"Training accuracy\")\n",
    "# ax[1].plot(history.history['val_acc'], color='r',label=\"Validation accuracy\")\n",
    "# legend = ax[1].legend(loc='best', shadow=True)"
   ]
  },
  {
   "cell_type": "code",
   "execution_count": 12,
   "metadata": {},
   "outputs": [
    {
     "name": "stdout",
     "output_type": "stream",
     "text": [
      "Loading trained model\n"
     ]
    },
    {
     "ename": "NameError",
     "evalue": "name 'load_model' is not defined",
     "output_type": "error",
     "traceback": [
      "\u001b[1;31m---------------------------------------------------------------------------\u001b[0m",
      "\u001b[1;31mNameError\u001b[0m                                 Traceback (most recent call last)",
      "\u001b[1;32m<ipython-input-12-19cf606e395a>\u001b[0m in \u001b[0;36m<module>\u001b[1;34m()\u001b[0m\n\u001b[0;32m      1\u001b[0m \u001b[1;31m# loading our save model\u001b[0m\u001b[1;33m\u001b[0m\u001b[1;33m\u001b[0m\u001b[0m\n\u001b[0;32m      2\u001b[0m \u001b[0mprint\u001b[0m\u001b[1;33m(\u001b[0m\u001b[1;34m\"Loading trained model\"\u001b[0m\u001b[1;33m)\u001b[0m\u001b[1;33m\u001b[0m\u001b[0m\n\u001b[1;32m----> 3\u001b[1;33m \u001b[0mmodel\u001b[0m \u001b[1;33m=\u001b[0m \u001b[0mload_model\u001b[0m\u001b[1;33m(\u001b[0m\u001b[0mmodel_path\u001b[0m\u001b[1;33m)\u001b[0m\u001b[1;33m\u001b[0m\u001b[0m\n\u001b[0m\u001b[0;32m      4\u001b[0m \u001b[1;33m\u001b[0m\u001b[0m\n\u001b[0;32m      5\u001b[0m \u001b[1;31m# Score trained model.\u001b[0m\u001b[1;33m\u001b[0m\u001b[1;33m\u001b[0m\u001b[0m\n",
      "\u001b[1;31mNameError\u001b[0m: name 'load_model' is not defined"
     ]
    }
   ],
   "source": [
    "#第一次執行忽略下列兩行\n",
    "# model_path = os.path.join(save_dir, model_name)\n",
    "# model = load_model(model_path)\n",
    "\n",
    "# loading our save model\n",
    "print(\"Loading trained model\")\n",
    "model = load_model(model_path)\n",
    "\n",
    "# Score trained model.\n",
    "scores = model.evaluate(X_val, Y_val, verbose=1)\n",
    "print('Test loss:', scores[0])\n",
    "print('Test accuracy:', scores[1])\n",
    "\n",
    "\n",
    "training_loss = model_history.history['loss']\n",
    "val_loss = model_history.history['val_loss']\n",
    "\n",
    "plt.plot(training_loss, label=\"training_loss\")\n",
    "plt.plot(val_loss, label=\"validation_loss\")\n",
    "plt.xlabel(\"Epochs\")\n",
    "plt.ylabel(\"Loss\")\n",
    "plt.title(\"Learning Curve\")\n",
    "plt.legend(loc='best')\n",
    "plt.show()"
   ]
  },
  {
   "cell_type": "code",
   "execution_count": 14,
   "metadata": {},
   "outputs": [],
   "source": [
    "# predict results\n",
    "results = model.predict(test)\n",
    "\n",
    "# select the indix with the maximum probability\n",
    "results = np.argmax(results,axis = 1)\n",
    "results = pd.Series(results,name=\"Label\")\n",
    "submission = pd.concat([pd.Series(range(1,28001),name = \"ImageId\"),results],axis = 1)\n",
    "submission.to_csv(\"digit.csv\",index=False)"
   ]
  }
 ],
 "metadata": {
  "kernelspec": {
   "display_name": "Python 3",
   "language": "python",
   "name": "python3"
  },
  "language_info": {
   "codemirror_mode": {
    "name": "ipython",
    "version": 3
   },
   "file_extension": ".py",
   "mimetype": "text/x-python",
   "name": "python",
   "nbconvert_exporter": "python",
   "pygments_lexer": "ipython3",
   "version": "3.6.2"
  }
 },
 "nbformat": 4,
 "nbformat_minor": 2
}
